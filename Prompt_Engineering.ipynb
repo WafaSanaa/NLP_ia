{
  "cells": [
    {
      "cell_type": "markdown",
      "metadata": {
        "id": "view-in-github",
        "colab_type": "text"
      },
      "source": [
        "<a href=\"https://colab.research.google.com/github/WafaSanaa/NLP_ia/blob/main/Prompt_Engineering.ipynb\" target=\"_parent\"><img src=\"https://colab.research.google.com/assets/colab-badge.svg\" alt=\"Open In Colab\"/></a>"
      ]
    },
    {
      "cell_type": "code",
      "execution_count": null,
      "metadata": {
        "id": "DYkRxM-Kp6Cc"
      },
      "outputs": [],
      "source": [
        "%%capture\n",
        "!pip install langchain>=0.1.17 openai>=1.13.3 langchain_openai>=0.1.6 transformers>=4.40.1 datasets>=2.18.0 accelerate>=0.27.2 sentence-transformers>=2.5.1 duckduckgo-search>=5.2.2\n",
        "!CMAKE_ARGS=\"-DLLAMA_CUBLAS=on\" pip install llama-cpp-python"
      ]
    },
    {
      "cell_type": "markdown",
      "metadata": {
        "id": "VjTC-K_6yylH"
      },
      "source": [
        "# **Loading our Model**"
      ]
    },
    {
      "cell_type": "code",
      "execution_count": null,
      "metadata": {
        "colab": {
          "base_uri": "https://localhost:8080/",
          "height": 560,
          "referenced_widgets": [
            "3171f57a95d14b699391d660d6de4bd4",
            "f7b36ed2e55746668dc1de7aebd836b3",
            "d97f25978474454894faee1215ac6239",
            "a0f3570a401e4b238ce62c646880512a",
            "f671c551fae143fd8b82dd0c0eb817e2",
            "102611086ca041819c76354047f79759",
            "49fff8a381984eacb051294e9f5772a2",
            "0495e61d76864a0cb31977f92572b922",
            "71894f175e524ef995648894a3d3ebac",
            "8dc3a249b7434316bd0df61bd36b8579",
            "6cc39c4ed1db4af78280098140808e6d",
            "8c2afe596d434ad8a4ddeaec1204c039",
            "43898589ccf54c64a52d7f8322519438",
            "190c667c0dd84a59b688ed10626f13a3",
            "cae42aff874b43cba7b29a9f3700ce14",
            "c672ab9621fd41ee85706b64db413497",
            "56e1bd215d424c81bc94aea2b2e533c9",
            "7005076380ee470fba5c2d3a823034b7",
            "75ae9e510a8c4d22a136dd5639f7369f",
            "322dbc446dae403e90f1aeb5a6728f15",
            "3785c07d6f494a98be4eeba68ceb2ec4",
            "dc81723f69df410ca50aa648bb5db81f",
            "97b128ffae114f2b8cbf3d9091fbefa0",
            "e0a3e5feb1b042608095323429820aa4",
            "eb7c25e8c13f49c2965522a7f90b1185",
            "b6ec56d45baf42f585a4151f8a03621b",
            "d02777a2988946fd9e9e4a2960b0e9a2",
            "77a218c244904c12b24e8beaedd550ee",
            "033f21ba7ff540ef8931d3d7c7c0db66",
            "60568f500a5c45e7b5334e7df1b93d27",
            "3dfa5c5ad40d4b9dbb3be28f1cbd3acd",
            "475811bbb4004abb9378ee8e5f597941",
            "5f12de8c93ef4a2abbbf111fee8aa29b",
            "c73b90f444a94e74b5494eecdfd41351",
            "61206d578a6d4c09940a18be3c6a9900",
            "fc6607785bb14b24995ba2d2705f640d",
            "f2d23ce84e98498e818cf72de2596d8b",
            "7968d9ff87ad497293b6d89951a1f4b4",
            "13e50fbaf6c04f20b17a20da769a490c",
            "47f1cedfae7e4a18bed03f3aa4d6a36b",
            "d39aa4af13a84dcb9a0cf0777850d916",
            "bbf670fe491049f79126ad9020e0bc97",
            "8164c15cc8024fa6b59a0ce6c4d55d3c",
            "e731f3991a3a4b1a9c065d341bb2212b",
            "4221134ede00482685fe9e158688f166",
            "38b9f7d60a894f00afe762a2b7726274",
            "edbf3ea8c889438a8c3c0f9e9a20385c",
            "c20370c4388f443693fefb19ddba52d9",
            "ec62cdf55bd344619e49713afd1252e0",
            "bccef689c4a14bb3a1ab47a785745e19",
            "5425689ce5654f6e9569269ba3fabc3a",
            "513b0e54ee964f1e97cd9a8a31b77ae3",
            "585dbcfcf47c4adfbd32376ddb97b132",
            "12839625edd54285a7f76807b59191d0",
            "7d8224b6b494405196af8403bd011951",
            "cb8767ffb6e94177a6d12cf1586b3cfa",
            "419ff690e786484b9f7e94c2fae5f2d6",
            "7474d23a5c534f3ea3d6ffda4cc17e32",
            "1741939d8ea844358a942211a85a7a6f",
            "027074c357e544acba755e811e9552f4",
            "3f71f06d7ae1415eb34696f99750b89f",
            "af194f33db684fec82d8e64ca1c0473b",
            "50f3371e151d440595f58fc740dc3d58",
            "abee3f00d5ea4b73bf5d851cb524d3bc",
            "6da391237fec4fafb6fff8be47d36234",
            "3a5700f2df114037b5e8913a9c48f2cf",
            "57734e58322a4f7ab4828d34fd949480",
            "68dd04b77c98463bb84287d9f3669a15",
            "9f92da3fc9044d3a9fdec0221cc56625",
            "877f1da72d65454bb81a0b8eacec3c9b",
            "eeb97962db66407390e27b0a3d8d3213",
            "30a326db4425415e9a9900fdfd6006b1",
            "1ec0545c7fe1465891c93519ed2650ca",
            "a2bc6fabe7b845f8a199fe00814bc4db",
            "3e63245c8e244329b67be1bafc60cea8",
            "54425271858b4457a3ef383b509cd304",
            "8bfeaf6ef57c4c3885816fd232095bf9",
            "7141fb3d057944948066ed3f46aa08d9",
            "e857d6918c6e418a800191045e3b37ef",
            "d556b57ecba4496ab3ad221c40557b19",
            "c854554188cc47d8af7afdef957cb06a",
            "ce129a354d7c473098bdfab1d8e78e57",
            "cda5d1ed5a4e4553946c0ceaf86853ee",
            "a10acb6d03d44960a491f9da22f6b529",
            "f313e127e70b4321ab5f97dd331866b9",
            "31aa2817429f49eea854afef5f411607",
            "3382eb633d50476a8540cd883cdaa32d",
            "af4fa459b80f4655adc6a16fcc9afc69",
            "321b276b8bb745dbbdcb28700837a93e",
            "d9a6289e0c8d4e20961d6fec0858f565",
            "f011ed437bad4f029d6ab96e9a240e1a",
            "01e1a171cc664fe3a08a0aeb88687847",
            "83054b2aa7dd44bf9dda7066cdcd708c",
            "aca4b5eb11a84eb3adb5f3e6979bb6a5",
            "facbab65cd1748dabdc3a7b55a26f84c",
            "ca29529d697245caba789a7aa75d5def",
            "4ae1be0eab4c4493a10cafcdeb123eec",
            "b33f0c45462d4421ae9e13e91f98eec2",
            "03378fea5e314ae096fb66b8a81adff4",
            "f2810c4868d84999bc135294498ece9b",
            "18b131bc4f73492fb9e883a151adcb13",
            "a2a7501381b849ae9a4697b36b18e23d",
            "433e21a92fe2426bade9936316f7a1ff",
            "43fd454ab73742c19f7e7e94af4e4a44",
            "7c437561b9da4b528c70fe60e3f52753",
            "d1b8ad8ede5d4db28604217810ba0262",
            "8ea1943047ca4001b86609aa095576d2",
            "d045876a980f47a89cea54be817b1450",
            "2d4a3d27e03f414791e31178b77b483f",
            "4097a4bc3d954dd0b5f01632f95b14fc",
            "750f311509514604ab2322e81c89afb5",
            "23d51dff42a940d4b36bcdfa02916931",
            "e2df5a1a40d145a183139f84a0452423",
            "0086fb1fa014488c9cda8311295f8241",
            "df5e0f548dbb440db289c38649633655",
            "9250fa8bd17c44fdbe25a2aadd903175",
            "253e5f02dbf84619bb275f6911c683e6",
            "da331ba699fa48f08f87a0f42ed39eab",
            "11a1c3481d7949a08dd33e3bcdbaaa3b",
            "34087dae21974c899bd0362601fd5f47",
            "e53c483769a543e5aaae7c7823613132",
            "1dbe640ca77b4a00afc868bc73b516ee",
            "fb04690e329d49a9aabe897855b6ffdc",
            "c01f6436ea0a439ea5b7d683057a1e86",
            "c9350ae0bed14393800cc00d42b06eac",
            "c15dc34db2de4db9abf2600e32f7feca",
            "f4091c3a4d864b1db239a75627b6f4a8",
            "28e7fddc5f4f4622b6ad2babe5fae1fa",
            "ef4b6b65d5834ee2a3c03b8a6bf08f60",
            "656749e42623414cbd93cd56913ec337",
            "e8e116e55a7d4f00a290e721d64703f2",
            "fe80514a51b24131a152d37db798be7f"
          ]
        },
        "id": "HaEG-LumyrGP",
        "outputId": "b66330d5-785c-4053-9674-6e1920e94b9a"
      },
      "outputs": [
        {
          "name": "stderr",
          "output_type": "stream",
          "text": [
            "/usr/local/lib/python3.11/dist-packages/huggingface_hub/utils/_auth.py:94: UserWarning: \n",
            "The secret `HF_TOKEN` does not exist in your Colab secrets.\n",
            "To authenticate with the Hugging Face Hub, create a token in your settings tab (https://huggingface.co/settings/tokens), set it as secret in your Google Colab and restart your session.\n",
            "You will be able to reuse this secret in all of your notebooks.\n",
            "Please note that authentication is recommended but still optional to access public models or datasets.\n",
            "  warnings.warn(\n"
          ]
        },
        {
          "data": {
            "application/vnd.jupyter.widget-view+json": {
              "model_id": "3171f57a95d14b699391d660d6de4bd4",
              "version_major": 2,
              "version_minor": 0
            },
            "text/plain": [
              "config.json:   0%|          | 0.00/967 [00:00<?, ?B/s]"
            ]
          },
          "metadata": {},
          "output_type": "display_data"
        },
        {
          "data": {
            "application/vnd.jupyter.widget-view+json": {
              "model_id": "8c2afe596d434ad8a4ddeaec1204c039",
              "version_major": 2,
              "version_minor": 0
            },
            "text/plain": [
              "model.safetensors.index.json:   0%|          | 0.00/16.5k [00:00<?, ?B/s]"
            ]
          },
          "metadata": {},
          "output_type": "display_data"
        },
        {
          "data": {
            "application/vnd.jupyter.widget-view+json": {
              "model_id": "97b128ffae114f2b8cbf3d9091fbefa0",
              "version_major": 2,
              "version_minor": 0
            },
            "text/plain": [
              "Fetching 2 files:   0%|          | 0/2 [00:00<?, ?it/s]"
            ]
          },
          "metadata": {},
          "output_type": "display_data"
        },
        {
          "data": {
            "application/vnd.jupyter.widget-view+json": {
              "model_id": "c73b90f444a94e74b5494eecdfd41351",
              "version_major": 2,
              "version_minor": 0
            },
            "text/plain": [
              "model-00001-of-00002.safetensors:   0%|          | 0.00/4.97G [00:00<?, ?B/s]"
            ]
          },
          "metadata": {},
          "output_type": "display_data"
        },
        {
          "data": {
            "application/vnd.jupyter.widget-view+json": {
              "model_id": "4221134ede00482685fe9e158688f166",
              "version_major": 2,
              "version_minor": 0
            },
            "text/plain": [
              "model-00002-of-00002.safetensors:   0%|          | 0.00/2.67G [00:00<?, ?B/s]"
            ]
          },
          "metadata": {},
          "output_type": "display_data"
        },
        {
          "data": {
            "application/vnd.jupyter.widget-view+json": {
              "model_id": "cb8767ffb6e94177a6d12cf1586b3cfa",
              "version_major": 2,
              "version_minor": 0
            },
            "text/plain": [
              "Loading checkpoint shards:   0%|          | 0/2 [00:00<?, ?it/s]"
            ]
          },
          "metadata": {},
          "output_type": "display_data"
        },
        {
          "data": {
            "application/vnd.jupyter.widget-view+json": {
              "model_id": "57734e58322a4f7ab4828d34fd949480",
              "version_major": 2,
              "version_minor": 0
            },
            "text/plain": [
              "generation_config.json:   0%|          | 0.00/181 [00:00<?, ?B/s]"
            ]
          },
          "metadata": {},
          "output_type": "display_data"
        },
        {
          "data": {
            "application/vnd.jupyter.widget-view+json": {
              "model_id": "7141fb3d057944948066ed3f46aa08d9",
              "version_major": 2,
              "version_minor": 0
            },
            "text/plain": [
              "tokenizer_config.json:   0%|          | 0.00/3.44k [00:00<?, ?B/s]"
            ]
          },
          "metadata": {},
          "output_type": "display_data"
        },
        {
          "data": {
            "application/vnd.jupyter.widget-view+json": {
              "model_id": "321b276b8bb745dbbdcb28700837a93e",
              "version_major": 2,
              "version_minor": 0
            },
            "text/plain": [
              "tokenizer.model:   0%|          | 0.00/500k [00:00<?, ?B/s]"
            ]
          },
          "metadata": {},
          "output_type": "display_data"
        },
        {
          "data": {
            "application/vnd.jupyter.widget-view+json": {
              "model_id": "f2810c4868d84999bc135294498ece9b",
              "version_major": 2,
              "version_minor": 0
            },
            "text/plain": [
              "tokenizer.json:   0%|          | 0.00/1.94M [00:00<?, ?B/s]"
            ]
          },
          "metadata": {},
          "output_type": "display_data"
        },
        {
          "data": {
            "application/vnd.jupyter.widget-view+json": {
              "model_id": "750f311509514604ab2322e81c89afb5",
              "version_major": 2,
              "version_minor": 0
            },
            "text/plain": [
              "added_tokens.json:   0%|          | 0.00/306 [00:00<?, ?B/s]"
            ]
          },
          "metadata": {},
          "output_type": "display_data"
        },
        {
          "data": {
            "application/vnd.jupyter.widget-view+json": {
              "model_id": "1dbe640ca77b4a00afc868bc73b516ee",
              "version_major": 2,
              "version_minor": 0
            },
            "text/plain": [
              "special_tokens_map.json:   0%|          | 0.00/599 [00:00<?, ?B/s]"
            ]
          },
          "metadata": {},
          "output_type": "display_data"
        },
        {
          "name": "stderr",
          "output_type": "stream",
          "text": [
            "Device set to use cuda\n",
            "The following generation flags are not valid and may be ignored: ['temperature']. Set `TRANSFORMERS_VERBOSITY=info` for more details.\n"
          ]
        }
      ],
      "source": [
        "import torch\n",
        "from transformers import AutoModelForCausalLM, AutoTokenizer, pipeline\n",
        "\n",
        "# Load model and tokenizer\n",
        "model = AutoModelForCausalLM.from_pretrained(\n",
        "    \"microsoft/Phi-3-mini-4k-instruct\",\n",
        "    device_map=\"cuda\",\n",
        "    torch_dtype=\"auto\",\n",
        "    trust_remote_code=False,\n",
        ")\n",
        "tokenizer = AutoTokenizer.from_pretrained(\"microsoft/Phi-3-mini-4k-instruct\")\n",
        "\n",
        "# Create a pipeline\n",
        "pipe = pipeline(\n",
        "    \"text-generation\",\n",
        "    model=model,\n",
        "    tokenizer=tokenizer,\n",
        "    return_full_text=False,\n",
        "    max_new_tokens=500,\n",
        "    do_sample=False,\n",
        ")"
      ]
    },
    {
      "cell_type": "code",
      "execution_count": null,
      "metadata": {
        "colab": {
          "base_uri": "https://localhost:8080/"
        },
        "id": "AzZI8NuOzCTG",
        "outputId": "58b5cf17-66a6-4b07-e6cf-db6d4b2c5306"
      },
      "outputs": [
        {
          "name": "stderr",
          "output_type": "stream",
          "text": [
            "The following generation flags are not valid and may be ignored: ['temperature']. Set `TRANSFORMERS_VERBOSITY=info` for more details.\n"
          ]
        },
        {
          "name": "stdout",
          "output_type": "stream",
          "text": [
            " Why did the chicken join the band? Because it had the drumsticks!\n"
          ]
        }
      ],
      "source": [
        "# Prompt\n",
        "messages = [\n",
        "    {\"role\": \"user\", \"content\": \"Create a funny joke about chickens.\"}\n",
        "]\n",
        "\n",
        "# Generate the output\n",
        "output = pipe(messages)\n",
        "print(output[0][\"generated_text\"])"
      ]
    },
    {
      "cell_type": "code",
      "execution_count": null,
      "metadata": {
        "colab": {
          "base_uri": "https://localhost:8080/"
        },
        "id": "UWWKx9z24poI",
        "outputId": "4281784f-f037-420f-f388-53f7ce74056a"
      },
      "outputs": [
        {
          "name": "stdout",
          "output_type": "stream",
          "text": [
            "<|user|>\n",
            "Create a funny joke about chickens.<|end|>\n",
            "<|endoftext|>\n"
          ]
        }
      ],
      "source": [
        "# Apply prompt template\n",
        "prompt = pipe.tokenizer.apply_chat_template(messages, tokenize=False)\n",
        "print(prompt)"
      ]
    },
    {
      "cell_type": "code",
      "execution_count": null,
      "metadata": {
        "colab": {
          "base_uri": "https://localhost:8080/"
        },
        "id": "A-ScSt2u4vBI",
        "outputId": "dcce2cf7-77e5-4c2a-e8f5-02e22268a519"
      },
      "outputs": [
        {
          "name": "stdout",
          "output_type": "stream",
          "text": [
            " Why can't you hear a chicken's secrets? Because they just peck the beak... or the truth!\n"
          ]
        }
      ],
      "source": [
        "# Using a high temperature\n",
        "output = pipe(messages, do_sample=True, temperature=1)\n",
        "print(output[0][\"generated_text\"])"
      ]
    },
    {
      "cell_type": "code",
      "execution_count": null,
      "metadata": {
        "colab": {
          "base_uri": "https://localhost:8080/"
        },
        "id": "N5OP1PJY4zNo",
        "outputId": "3e3cd0a0-df98-4ac3-e3f3-3dbb88e99a2f"
      },
      "outputs": [
        {
          "name": "stdout",
          "output_type": "stream",
          "text": [
            " Why do chickens have such short memories?\n"
          ]
        }
      ],
      "source": [
        "# Using a high top_p\n",
        "output = pipe(messages, do_sample=True, top_p=1)\n",
        "print(output[0][\"generated_text\"])"
      ]
    },
    {
      "cell_type": "markdown",
      "metadata": {
        "id": "DE2e6ZEW447i"
      },
      "source": [
        "# **Intro to Prompt Engineering**\n",
        "# The Basic Ingredients of a Prompt"
      ]
    },
    {
      "cell_type": "markdown",
      "metadata": {
        "id": "n4FIqtxA48nd"
      },
      "source": [
        "# **Advanced Prompt Engineering**\n",
        "# Complex Prompt"
      ]
    },
    {
      "cell_type": "code",
      "execution_count": null,
      "metadata": {
        "id": "CuQjKz6x5DlC"
      },
      "outputs": [],
      "source": [
        "# Text to summarize which we stole from https://jalammar.github.io/illustrated-transformer/ ;)\n",
        "text = \"\"\"In the previous post, we looked at Attention – a ubiquitous method in modern deep learning models. Attention is a concept that helped improve the performance of neural machine translation applications. In this post, we will look at The Transformer – a model that uses attention to boost the speed with which these models can be trained. The Transformer outperforms the Google Neural Machine Translation model in specific tasks. The biggest benefit, however, comes from how The Transformer lends itself to parallelization. It is in fact Google Cloud’s recommendation to use The Transformer as a reference model to use their Cloud TPU offering. So let’s try to break the model apart and look at how it functions.\n",
        "The Transformer was proposed in the paper Attention is All You Need. A TensorFlow implementation of it is available as a part of the Tensor2Tensor package. Harvard’s NLP group created a guide annotating the paper with PyTorch implementation. In this post, we will attempt to oversimplify things a bit and introduce the concepts one by one to hopefully make it easier to understand to people without in-depth knowledge of the subject matter.\n",
        "Let’s begin by looking at the model as a single black box. In a machine translation application, it would take a sentence in one language, and output its translation in another.\n",
        "Popping open that Optimus Prime goodness, we see an encoding component, a decoding component, and connections between them.\n",
        "The encoding component is a stack of encoders (the paper stacks six of them on top of each other – there’s nothing magical about the number six, one can definitely experiment with other arrangements). The decoding component is a stack of decoders of the same number.\n",
        "The encoders are all identical in structure (yet they do not share weights). Each one is broken down into two sub-layers:\n",
        "The encoder’s inputs first flow through a self-attention layer – a layer that helps the encoder look at other words in the input sentence as it encodes a specific word. We’ll look closer at self-attention later in the post.\n",
        "The outputs of the self-attention layer are fed to a feed-forward neural network. The exact same feed-forward network is independently applied to each position.\n",
        "The decoder has both those layers, but between them is an attention layer that helps the decoder focus on relevant parts of the input sentence (similar what attention does in seq2seq models).\n",
        "Now that we’ve seen the major components of the model, let’s start to look at the various vectors/tensors and how they flow between these components to turn the input of a trained model into an output.\n",
        "As is the case in NLP applications in general, we begin by turning each input word into a vector using an embedding algorithm.\n",
        "Each word is embedded into a vector of size 512. We'll represent those vectors with these simple boxes.\n",
        "The embedding only happens in the bottom-most encoder. The abstraction that is common to all the encoders is that they receive a list of vectors each of the size 512 – In the bottom encoder that would be the word embeddings, but in other encoders, it would be the output of the encoder that’s directly below. The size of this list is hyperparameter we can set – basically it would be the length of the longest sentence in our training dataset.\n",
        "After embedding the words in our input sequence, each of them flows through each of the two layers of the encoder.\n",
        "Here we begin to see one key property of the Transformer, which is that the word in each position flows through its own path in the encoder. There are dependencies between these paths in the self-attention layer. The feed-forward layer does not have those dependencies, however, and thus the various paths can be executed in parallel while flowing through the feed-forward layer.\n",
        "Next, we’ll switch up the example to a shorter sentence and we’ll look at what happens in each sub-layer of the encoder.\n",
        "Now We’re Encoding!\n",
        "As we’ve mentioned already, an encoder receives a list of vectors as input. It processes this list by passing these vectors into a ‘self-attention’ layer, then into a feed-forward neural network, then sends out the output upwards to the next encoder.\n",
        "\"\"\"\n",
        "\n",
        "# Prompt components\n",
        "persona = \"You are an expert in Large Language models. You excel at breaking down complex papers into digestible summaries.\\n\"\n",
        "instruction = \"Summarize the key findings of the paper provided.\\n\"\n",
        "context = \"Your summary should extract the most crucial points that can help researchers quickly understand the most vital information of the paper.\\n\"\n",
        "data_format = \"Create a bullet-point summary that outlines the method. Follow this up with a concise paragraph that encapsulates the main results.\\n\"\n",
        "audience = \"The summary is designed for busy researchers that quickly need to grasp the newest trends in Large Language Models.\\n\"\n",
        "tone = \"The tone should be professional and clear.\\n\"\n",
        "text = \"MY TEXT TO SUMMARIZE\"  # Replace with your own text to summarize\n",
        "data = f\"Text to summarize: {text}\"\n",
        "\n",
        "# The full prompt - remove and add pieces to view its impact on the generated output\n",
        "query = persona + instruction + context + data_format + audience + tone + data"
      ]
    },
    {
      "cell_type": "code",
      "execution_count": null,
      "metadata": {
        "colab": {
          "base_uri": "https://localhost:8080/"
        },
        "id": "9P_bx57j5M3l",
        "outputId": "c0e2fc1b-1174-40b7-d90f-3125132b7eba"
      },
      "outputs": [
        {
          "name": "stdout",
          "output_type": "stream",
          "text": [
            "<|user|>\n",
            "You are an expert in Large Language models. You excel at breaking down complex papers into digestible summaries.\n",
            "Summarize the key findings of the paper provided.\n",
            "Your summary should extract the most crucial points that can help researchers quickly understand the most vital information of the paper.\n",
            "Create a bullet-point summary that outlines the method. Follow this up with a concise paragraph that encapsulates the main results.\n",
            "The summary is designed for busy researchers that quickly need to grasp the newest trends in Large Language Models.\n",
            "The tone should be professional and clear.\n",
            "Text to summarize: MY TEXT TO SUMMARIZE<|end|>\n",
            "<|endoftext|>\n"
          ]
        }
      ],
      "source": [
        "messages = [\n",
        "    {\"role\": \"user\", \"content\": query}\n",
        "]\n",
        "print(tokenizer.apply_chat_template(messages, tokenize=False))"
      ]
    },
    {
      "cell_type": "code",
      "execution_count": null,
      "metadata": {
        "colab": {
          "base_uri": "https://localhost:8080/"
        },
        "id": "I0cjbu2D5Qvv",
        "outputId": "bac6a7ea-a169-46b4-a521-a5ac1f91af9c"
      },
      "outputs": [
        {
          "name": "stderr",
          "output_type": "stream",
          "text": [
            "The following generation flags are not valid and may be ignored: ['temperature']. Set `TRANSFORMERS_VERBOSITY=info` for more details.\n"
          ]
        },
        {
          "name": "stdout",
          "output_type": "stream",
          "text": [
            " - The paper investigates the impact of pre-training data size on the performance of Large Language Models (LLMs).\n",
            "\n",
            "- It compares models trained on different volumes of data, ranging from small to extra-large datasets.\n",
            "\n",
            "- The study finds that models trained on larger datasets generally perform better on a variety of tasks.\n",
            "\n",
            "- However, the performance gains diminish as the dataset size increases beyond a certain point.\n",
            "\n",
            "- The paper also explores the cost-benefit trade-off of using larger datasets for training LLMs.\n",
            "\n",
            "- It concludes that there is an optimal dataset size that balances performance gains with training costs.\n",
            "\n",
            "\n",
            "In summary, the paper presents a comprehensive analysis of how the size of pre-training data affects the performance of Large Language Models. The researchers found that while larger datasets tend to yield better model performance across various tasks, the benefits plateau beyond a certain dataset size. This indicates that there is a point of diminishing returns when it comes to the size of the training data. The study also highlights the importance of considering the cost implications of using larger datasets, suggesting that an optimal dataset size exists that maximizes performance gains while minimizing costs. This finding is crucial for researchers and practitioners in the field of NLP, as it guides the efficient allocation of resources in the development of LLMs.\n"
          ]
        }
      ],
      "source": [
        "# Generate the output\n",
        "outputs = pipe(messages)\n",
        "print(outputs[0][\"generated_text\"])"
      ]
    },
    {
      "cell_type": "markdown",
      "metadata": {
        "id": "I4jJhAug5W37"
      },
      "source": [
        "# In-Context Learning: Providing Examples"
      ]
    },
    {
      "cell_type": "code",
      "execution_count": null,
      "metadata": {
        "colab": {
          "base_uri": "https://localhost:8080/"
        },
        "id": "9Jk-UO6Y5cVq",
        "outputId": "ee82bee6-a06e-476d-cf27-08974849c0bf"
      },
      "outputs": [
        {
          "name": "stdout",
          "output_type": "stream",
          "text": [
            "<|user|>\n",
            "A 'Gigamuru' is a type of Japanese musical instrument. An example of a sentence that uses the word Gigamuru is:<|end|>\n",
            "<|assistant|>\n",
            "I have a Gigamuru that my uncle gave me as a gift. I love to play it at home.<|end|>\n",
            "<|user|>\n",
            "To 'screeg' something is to swing a sword at it. An example of a sentence that uses the word screeg is:<|end|>\n",
            "<|endoftext|>\n"
          ]
        }
      ],
      "source": [
        "# Use a single example of using the made-up word in a sentence\n",
        "one_shot_prompt = [\n",
        "    {\n",
        "        \"role\": \"user\",\n",
        "        \"content\": \"A 'Gigamuru' is a type of Japanese musical instrument. An example of a sentence that uses the word Gigamuru is:\"\n",
        "    },\n",
        "    {\n",
        "        \"role\": \"assistant\",\n",
        "        \"content\": \"I have a Gigamuru that my uncle gave me as a gift. I love to play it at home.\"\n",
        "    },\n",
        "    {\n",
        "        \"role\": \"user\",\n",
        "        \"content\": \"To 'screeg' something is to swing a sword at it. An example of a sentence that uses the word screeg is:\"\n",
        "    }\n",
        "]\n",
        "print(tokenizer.apply_chat_template(one_shot_prompt, tokenize=False))"
      ]
    },
    {
      "cell_type": "code",
      "execution_count": null,
      "metadata": {
        "colab": {
          "base_uri": "https://localhost:8080/"
        },
        "id": "LbU631Mi6uSM",
        "outputId": "9076c23c-4d4b-40f7-c4cf-1b419061a7e3"
      },
      "outputs": [
        {
          "name": "stderr",
          "output_type": "stream",
          "text": [
            "The following generation flags are not valid and may be ignored: ['temperature']. Set `TRANSFORMERS_VERBOSITY=info` for more details.\n"
          ]
        },
        {
          "name": "stdout",
          "output_type": "stream",
          "text": [
            " During the medieval reenactment, the knight skillfully screeged the wooden target with precision and grace.\n"
          ]
        }
      ],
      "source": [
        "# Generate the output\n",
        "outputs = pipe(one_shot_prompt)\n",
        "print(outputs[0][\"generated_text\"])"
      ]
    },
    {
      "cell_type": "markdown",
      "metadata": {
        "id": "aKmGMevj6-Ls"
      },
      "source": [
        "# Chain Prompting: Breaking up the Problem"
      ]
    },
    {
      "cell_type": "code",
      "execution_count": null,
      "metadata": {
        "colab": {
          "base_uri": "https://localhost:8080/"
        },
        "id": "_uxHesVF7AL1",
        "outputId": "25f150c0-d05e-41cd-8fee-df2ffaba7cea"
      },
      "outputs": [
        {
          "name": "stderr",
          "output_type": "stream",
          "text": [
            "The following generation flags are not valid and may be ignored: ['temperature']. Set `TRANSFORMERS_VERBOSITY=info` for more details.\n"
          ]
        },
        {
          "name": "stdout",
          "output_type": "stream",
          "text": [
            " Name: ChatSage\n",
            "Slogan: \"Your AI Companion for Smart Conversations\"\n"
          ]
        }
      ],
      "source": [
        "# Create name and slogan for a product\n",
        "product_prompt = [\n",
        "    {\"role\": \"user\", \"content\": \"Create a name and slogan for a chatbot that leverages LLMs.\"}\n",
        "]\n",
        "outputs = pipe(product_prompt)\n",
        "product_description = outputs[0][\"generated_text\"]\n",
        "print(product_description)"
      ]
    },
    {
      "cell_type": "code",
      "execution_count": null,
      "metadata": {
        "colab": {
          "base_uri": "https://localhost:8080/"
        },
        "id": "PRq2cm2U7IBY",
        "outputId": "e5cec6d6-13f0-4f59-cd73-eb115d2fa879"
      },
      "outputs": [
        {
          "name": "stderr",
          "output_type": "stream",
          "text": [
            "The following generation flags are not valid and may be ignored: ['temperature']. Set `TRANSFORMERS_VERBOSITY=info` for more details.\n"
          ]
        },
        {
          "name": "stdout",
          "output_type": "stream",
          "text": [
            " Introducing ChatSage, your AI Companion for Smart Conversations! With ChatSage, you'll have a personalized and intelligent assistant at your fingertips, ready to engage in meaningful dialogue, provide helpful information, and enhance your daily interactions. Experience the future of communication with ChatSage – your smart and reliable conversation partner.\n"
          ]
        }
      ],
      "source": [
        "# Based on a name and slogan for a product, generate a sales pitch\n",
        "sales_prompt = [\n",
        "    {\"role\": \"user\", \"content\": f\"Generate a very short sales pitch for the following product: '{product_description}'\"}\n",
        "]\n",
        "outputs = pipe(sales_prompt)\n",
        "sales_pitch = outputs[0][\"generated_text\"]\n",
        "print(sales_pitch)"
      ]
    },
    {
      "cell_type": "markdown",
      "metadata": {
        "id": "XRemQfAH7NAG"
      },
      "source": [
        "# **Reasoning with Generative Models**\n",
        "# Chain-of-Thought: Think Before Answering"
      ]
    },
    {
      "cell_type": "code",
      "execution_count": null,
      "metadata": {
        "colab": {
          "base_uri": "https://localhost:8080/"
        },
        "id": "hQZiyjPR7Qhr",
        "outputId": "9bf49848-551a-4d5c-cf74-d6613e75523e"
      },
      "outputs": [
        {
          "name": "stderr",
          "output_type": "stream",
          "text": [
            "The following generation flags are not valid and may be ignored: ['temperature']. Set `TRANSFORMERS_VERBOSITY=info` for more details.\n"
          ]
        },
        {
          "name": "stdout",
          "output_type": "stream",
          "text": [
            " The cafeteria started with 25 apples. They used 20 apples to make lunch, so they had 25 - 20 = 5 apples left. Then they bought 6 more apples, so they now have 5 + 6 = 11 apples.\n"
          ]
        }
      ],
      "source": [
        "# # Answering without explicit reasoning\n",
        "standard_prompt = [\n",
        "\n",
        "    {\"role\": \"user\", \"content\": \"Roger has 5 tennis balls. He buys 2 more cans of tennis balls. Each can has 3 tennis balls. How many tennis balls does he have now?\"},\n",
        "    {\"role\": \"assistant\", \"content\": \"11\"},\n",
        "    {\"role\": \"user\", \"content\": \"The cafeteria had 25 apples. If they used 20 to make lunch and bought 6 more, how many apples do they have?\"}\n",
        " ]\n",
        "\n",
        "# # Run generative model\n",
        "outputs = pipe(standard_prompt)\n",
        "print(outputs[0][\"generated_text\"])"
      ]
    },
    {
      "cell_type": "code",
      "execution_count": null,
      "metadata": {
        "colab": {
          "base_uri": "https://localhost:8080/"
        },
        "id": "I3drFfb4_YMv",
        "outputId": "a89e4509-f9d4-423d-8725-8be1a2220c78"
      },
      "outputs": [
        {
          "name": "stderr",
          "output_type": "stream",
          "text": [
            "The following generation flags are not valid and may be ignored: ['temperature']. Set `TRANSFORMERS_VERBOSITY=info` for more details.\n"
          ]
        },
        {
          "name": "stdout",
          "output_type": "stream",
          "text": [
            " The cafeteria started with 23 apples. They used 20 apples to make lunch, so they had 23 - 20 = 3 apples left. After buying 6 more apples, they now have 3 + 6 = 9 apples. The answer is 9.\n"
          ]
        }
      ],
      "source": [
        "# Answering with chain-of-thought\n",
        "cot_prompt = [\n",
        "    {\"role\": \"user\", \"content\": \"Roger has 5 tennis balls. He buys 2 more cans of tennis balls. Each can has 3 tennis balls. How many tennis balls does he have now?\"},\n",
        "    {\"role\": \"assistant\", \"content\": \"Roger started with 5 balls. 2 cans of 3 tennis balls each is 6 tennis balls. 5 + 6 = 11. The answer is 11.\"},\n",
        "    {\"role\": \"user\", \"content\": \"The cafeteria had 23 apples. If they used 20 to make lunch and bought 6 more, how many apples do they have?\"}\n",
        "]\n",
        "\n",
        "# Generate the output\n",
        "outputs = pipe(cot_prompt)\n",
        "print(outputs[0][\"generated_text\"])"
      ]
    },
    {
      "cell_type": "markdown",
      "metadata": {
        "id": "mYuAOR_Z_g1W"
      },
      "source": [
        "# Zero-shot Chain-of-Thought"
      ]
    },
    {
      "cell_type": "code",
      "execution_count": null,
      "metadata": {
        "colab": {
          "base_uri": "https://localhost:8080/"
        },
        "id": "P55fYCaA_kJk",
        "outputId": "8110eb99-d59a-49f0-8c7b-036d04d8001f"
      },
      "outputs": [
        {
          "name": "stderr",
          "output_type": "stream",
          "text": [
            "The following generation flags are not valid and may be ignored: ['temperature']. Set `TRANSFORMERS_VERBOSITY=info` for more details.\n"
          ]
        },
        {
          "name": "stdout",
          "output_type": "stream",
          "text": [
            " Step 1: The cafeteria starts with 23 apples.\n",
            "Step 2: They used 20 apples to make lunch, so we subtract 20 from the initial amount: 23 - 20 = 3 apples remaining.\n",
            "Step 3: The cafeteria bought 6 more apples, so we add 6 to the remaining amount: 3 + 6 = 9 apples.\n",
            "\n",
            "The cafeteria now has 9 apples.\n"
          ]
        }
      ],
      "source": [
        "# Zero-shot Chain-of-Thought\n",
        "zeroshot_cot_prompt = [\n",
        "    {\"role\": \"user\", \"content\": \"The cafeteria had 23 apples. If they used 20 to make lunch and bought 6 more, how many apples do they have? Let's think step-by-step.\"}\n",
        "]\n",
        "\n",
        "# Generate the output\n",
        "outputs = pipe(zeroshot_cot_prompt)\n",
        "print(outputs[0][\"generated_text\"])"
      ]
    },
    {
      "cell_type": "markdown",
      "metadata": {
        "id": "-ZUcNKk4_4qG"
      },
      "source": [
        "# Tree-of-Thought: Exploring Intermediate Steps"
      ]
    },
    {
      "cell_type": "code",
      "execution_count": null,
      "metadata": {
        "id": "D-n3fQBo_6uq"
      },
      "outputs": [],
      "source": [
        "# Zero-shot Chain-of-Thought\n",
        "zeroshot_tot_prompt = [\n",
        "    {\"role\": \"user\", \"content\": \"Imagine three different experts are answering this question. All experts will write down 1 step of their thinking, then share it with the group. Then all experts will go on to the next step, etc. If any expert realises they're wrong at any point then they leave. The question is 'The cafeteria had 23 apples. If they used 20 to make lunch and bought 6 more, how many apples do they have?' Make sure to discuss the results.\"}\n",
        "]"
      ]
    },
    {
      "cell_type": "code",
      "execution_count": null,
      "metadata": {
        "colab": {
          "base_uri": "https://localhost:8080/"
        },
        "id": "CsC5OyeoABdp",
        "outputId": "d58f124d-d081-4660-8b1f-f0748783d20a"
      },
      "outputs": [
        {
          "name": "stderr",
          "output_type": "stream",
          "text": [
            "You seem to be using the pipelines sequentially on GPU. In order to maximize efficiency please use a dataset\n",
            "The following generation flags are not valid and may be ignored: ['temperature']. Set `TRANSFORMERS_VERBOSITY=info` for more details.\n"
          ]
        },
        {
          "name": "stdout",
          "output_type": "stream",
          "text": [
            " Expert 1:\n",
            "Step 1: Start with the initial number of apples, which is 23.\n",
            "\n",
            "Expert 2:\n",
            "Step 1: Subtract the number of apples used for lunch, which is 20.\n",
            "Step 2: Add the number of apples bought, which is 6.\n",
            "\n",
            "Expert 3:\n",
            "Step 1: Start with the initial number of apples, which is 23.\n",
            "Step 2: Subtract the number of apples used for lunch, which is 20.\n",
            "Step 3: Add the number of apples bought, which is 6.\n",
            "\n",
            "Results:\n",
            "All three experts arrived at the same answer: 23 - 20 + 6 = 9 apples remaining in the cafeteria.\n"
          ]
        }
      ],
      "source": [
        "# Generate the output\n",
        "outputs = pipe(zeroshot_tot_prompt)\n",
        "print(outputs[0][\"generated_text\"])"
      ]
    },
    {
      "cell_type": "markdown",
      "metadata": {
        "id": "vYtocRtIAQar"
      },
      "source": [
        "# **Output Verification**\n",
        "# Providing Examples"
      ]
    },
    {
      "cell_type": "code",
      "execution_count": null,
      "metadata": {
        "colab": {
          "base_uri": "https://localhost:8080/"
        },
        "id": "3TwZWjTOATtG",
        "outputId": "e2ed0bf8-b4f2-46b4-af09-f8cd416e5507"
      },
      "outputs": [
        {
          "name": "stderr",
          "output_type": "stream",
          "text": [
            "The following generation flags are not valid and may be ignored: ['temperature']. Set `TRANSFORMERS_VERBOSITY=info` for more details.\n"
          ]
        },
        {
          "name": "stdout",
          "output_type": "stream",
          "text": [
            " ```json\n",
            "{\n",
            "  \"name\": \"Aria Stormbringer\",\n",
            "  \"class\": \"Warrior\",\n",
            "  \"race\": \"Human\",\n",
            "  \"level\": 10,\n",
            "  \"attributes\": {\n",
            "    \"strength\": 18,\n",
            "    \"dexterity\": 12,\n",
            "    \"constitution\": 16,\n",
            "    \"intelligence\": 8,\n",
            "    \"wisdom\": 10,\n",
            "    \"charisma\": 14\n",
            "  },\n",
            "  \"skills\": {\n",
            "    \"melee\": 15,\n",
            "    \"ranged\": 10,\n",
            "    \"magic\": 5,\n",
            "    \"stealth\": 12,\n",
            "    \"acrobatics\": 10,\n",
            "    \"animal_handling\": 8\n",
            "  },\n",
            "  \"equipment\": {\n",
            "    \"weapon\": \"Two-handed Axe\",\n",
            "    \"armor\": \"Chainmail Hauberk\",\n",
            "    \"shield\": \"Warhammer\",\n",
            "    \"accessories\": [\n",
            "      \"Warrior's Talisman\",\n",
            "      \"Leather Boots\",\n",
            "      \"Woolen Cloak\"\n",
            "    ]\n",
            "  },\n",
            "  \"background\": \"Aria grew up in a small village on the outskirts of a great city. She was always fascinated by the stories of brave warriors who fought to protect their people. When she was just a child, her village was attacked by a band of marauders. Aria and her family were forced to flee, but not before she witnessed the bravery of a young warrior who saved her life. From that day on, Aria knew that she wanted to become a warrior herself. She trained hard and eventually earned the respect of her village. When the marauders returned, Aria was ready to defend her home and her people.\"\n",
            "}\n",
            "```\n"
          ]
        }
      ],
      "source": [
        "# Zero-shot learning: Providing no examples\n",
        "zeroshot_prompt = [\n",
        "    {\"role\": \"user\", \"content\": \"Create a character profile for an RPG game in JSON format.\"}\n",
        "]\n",
        "\n",
        "# Generate the output\n",
        "outputs = pipe(zeroshot_prompt)\n",
        "print(outputs[0][\"generated_text\"])"
      ]
    },
    {
      "cell_type": "code",
      "execution_count": null,
      "metadata": {
        "colab": {
          "base_uri": "https://localhost:8080/"
        },
        "id": "sQQ2cZ1yAbdN",
        "outputId": "2a4b647b-fbae-498c-c424-9e70ca29db52"
      },
      "outputs": [
        {
          "name": "stderr",
          "output_type": "stream",
          "text": [
            "The following generation flags are not valid and may be ignored: ['temperature']. Set `TRANSFORMERS_VERBOSITY=info` for more details.\n"
          ]
        },
        {
          "name": "stdout",
          "output_type": "stream",
          "text": [
            " {\n",
            "  \"description\": \"A cunning rogue with a mysterious past, skilled in stealth and deception.\",\n",
            "  \"name\": \"Shadowcloak\",\n",
            "  \"armor\": \"Leather Hood\",\n",
            "  \"weapon\": \"Dagger\"\n",
            "}\n"
          ]
        }
      ],
      "source": [
        "# One-shot learning: Providing an example of the output structure\n",
        "one_shot_template = \"\"\"Create a short character profile for an RPG game. Make sure to only use this format:\n",
        "\n",
        "{\n",
        "  \"description\": \"A SHORT DESCRIPTION\",\n",
        "  \"name\": \"THE CHARACTER'S NAME\",\n",
        "  \"armor\": \"ONE PIECE OF ARMOR\",\n",
        "  \"weapon\": \"ONE OR MORE WEAPONS\"\n",
        "}\n",
        "\"\"\"\n",
        "one_shot_prompt = [\n",
        "    {\"role\": \"user\", \"content\": one_shot_template}\n",
        "]\n",
        "\n",
        "# Generate the output\n",
        "outputs = pipe(one_shot_prompt)\n",
        "print(outputs[0][\"generated_text\"])"
      ]
    },
    {
      "cell_type": "markdown",
      "metadata": {
        "id": "01GjHLvoBUim"
      },
      "source": [
        "# Grammar: Constrained Sampling"
      ]
    },
    {
      "cell_type": "code",
      "execution_count": null,
      "metadata": {
        "id": "PayLtNOgBWmo"
      },
      "outputs": [],
      "source": [
        "import gc\n",
        "import torch\n",
        "del model, tokenizer, pipe\n",
        "\n",
        "# Flush memory\n",
        "gc.collect()\n",
        "torch.cuda.empty_cache()"
      ]
    },
    {
      "cell_type": "code",
      "execution_count": null,
      "metadata": {
        "colab": {
          "base_uri": "https://localhost:8080/"
        },
        "id": "jAaX67oYGh3S",
        "outputId": "e5291263-67f7-4bd5-db5a-8849659d3cbc"
      },
      "outputs": [
        {
          "name": "stdout",
          "output_type": "stream",
          "text": [
            "\u001b[33m\r",
            "0% [Working]\u001b[0m\r",
            "            \r",
            "Hit:1 https://developer.download.nvidia.com/compute/cuda/repos/ubuntu2204/x86_64  InRelease\n",
            "Get:2 https://cloud.r-project.org/bin/linux/ubuntu jammy-cran40/ InRelease [3,632 B]\n",
            "Get:3 http://security.ubuntu.com/ubuntu jammy-security InRelease [129 kB]\n",
            "Hit:4 http://archive.ubuntu.com/ubuntu jammy InRelease\n",
            "Get:5 https://r2u.stat.illinois.edu/ubuntu jammy InRelease [6,555 B]\n",
            "Get:6 http://archive.ubuntu.com/ubuntu jammy-updates InRelease [128 kB]\n",
            "Get:7 https://r2u.stat.illinois.edu/ubuntu jammy/main all Packages [9,050 kB]\n",
            "Hit:8 https://ppa.launchpadcontent.net/deadsnakes/ppa/ubuntu jammy InRelease\n",
            "Hit:9 https://ppa.launchpadcontent.net/graphics-drivers/ppa/ubuntu jammy InRelease\n",
            "Hit:10 https://ppa.launchpadcontent.net/ubuntugis/ppa/ubuntu jammy InRelease\n",
            "Get:11 http://archive.ubuntu.com/ubuntu jammy-backports InRelease [127 kB]\n",
            "Get:12 http://security.ubuntu.com/ubuntu jammy-security/main amd64 Packages [3,024 kB]\n",
            "Get:13 https://r2u.stat.illinois.edu/ubuntu jammy/main amd64 Packages [2,747 kB]\n",
            "Get:14 http://archive.ubuntu.com/ubuntu jammy-updates/restricted amd64 Packages [4,710 kB]\n",
            "Get:15 http://security.ubuntu.com/ubuntu jammy-security/restricted amd64 Packages [4,532 kB]\n",
            "Get:16 http://archive.ubuntu.com/ubuntu jammy-updates/main amd64 Packages [3,343 kB]\n",
            "Get:17 http://security.ubuntu.com/ubuntu jammy-security/universe amd64 Packages [1,253 kB]\n",
            "Get:18 http://archive.ubuntu.com/ubuntu jammy-updates/universe amd64 Packages [1,561 kB]\n",
            "Fetched 30.6 MB in 3s (9,250 kB/s)\n",
            "Reading package lists... Done\n",
            "Building dependency tree... Done\n",
            "Reading state information... Done\n",
            "38 packages can be upgraded. Run 'apt list --upgradable' to see them.\n",
            "\u001b[1;33mW: \u001b[0mSkipping acquire of configured file 'main/source/Sources' as repository 'https://r2u.stat.illinois.edu/ubuntu jammy InRelease' does not seem to provide it (sources.list entry misspelt?)\u001b[0m\n",
            "Reading package lists... Done\n",
            "Building dependency tree... Done\n",
            "Reading state information... Done\n",
            "build-essential is already the newest version (12.9ubuntu3).\n",
            "cmake is already the newest version (3.22.1-1ubuntu1.22.04.2).\n",
            "python3-dev is already the newest version (3.10.6-1~22.04.1).\n",
            "python3-dev set to manually installed.\n",
            "0 upgraded, 0 newly installed, 0 to remove and 38 not upgraded.\n"
          ]
        }
      ],
      "source": [
        "!sudo apt update\n",
        "!sudo apt install -y build-essential cmake python3-dev"
      ]
    },
    {
      "cell_type": "code",
      "execution_count": null,
      "metadata": {
        "colab": {
          "base_uri": "https://localhost:8080/"
        },
        "id": "P6hIQAh2GXPF",
        "outputId": "c22cd299-313a-401d-c7fb-9c934d4baefa"
      },
      "outputs": [
        {
          "name": "stdout",
          "output_type": "stream",
          "text": [
            "Collecting llama-cpp-python\n",
            "  Using cached llama_cpp_python-0.3.9.tar.gz (67.9 MB)\n",
            "  Installing build dependencies ... \u001b[?25l\u001b[?25hdone\n",
            "  Getting requirements to build wheel ... \u001b[?25l\u001b[?25hdone\n",
            "  Installing backend dependencies ... \u001b[?25l\u001b[?25hdone\n",
            "  Preparing metadata (pyproject.toml) ... \u001b[?25l\u001b[?25hdone\n",
            "Requirement already satisfied: typing-extensions>=4.5.0 in /usr/local/lib/python3.11/dist-packages (from llama-cpp-python) (4.14.0)\n",
            "Requirement already satisfied: numpy>=1.20.0 in /usr/local/lib/python3.11/dist-packages (from llama-cpp-python) (2.0.2)\n",
            "Collecting diskcache>=5.6.1 (from llama-cpp-python)\n",
            "  Using cached diskcache-5.6.3-py3-none-any.whl.metadata (20 kB)\n",
            "Requirement already satisfied: jinja2>=2.11.3 in /usr/local/lib/python3.11/dist-packages (from llama-cpp-python) (3.1.6)\n",
            "Requirement already satisfied: MarkupSafe>=2.0 in /usr/local/lib/python3.11/dist-packages (from jinja2>=2.11.3->llama-cpp-python) (3.0.2)\n",
            "Using cached diskcache-5.6.3-py3-none-any.whl (45 kB)\n",
            "Building wheels for collected packages: llama-cpp-python\n",
            "  Building wheel for llama-cpp-python (pyproject.toml) ... \u001b[?25l\u001b[?25hdone\n",
            "  Created wheel for llama-cpp-python: filename=llama_cpp_python-0.3.9-cp311-cp311-linux_x86_64.whl size=4127105 sha256=35739628702c50fa2d673fe16a608a0509f3bf986e9f4037cfca8f7e9766b393\n",
            "  Stored in directory: /root/.cache/pip/wheels/9e/8f/bf/148c8eb7d69021eccd6eae6444f3accd48347587054ffd24e5\n",
            "Successfully built llama-cpp-python\n",
            "Installing collected packages: diskcache, llama-cpp-python\n",
            "Successfully installed diskcache-5.6.3 llama-cpp-python-0.3.9\n"
          ]
        }
      ],
      "source": [
        "!pip install llama-cpp-python"
      ]
    },
    {
      "cell_type": "code",
      "execution_count": null,
      "metadata": {
        "colab": {
          "base_uri": "https://localhost:8080/",
          "height": 66,
          "referenced_widgets": [
            "b721fb8d197442beb95cb36776562df6",
            "c18f1d2740ff4080a1b555b85d447529",
            "527c47d3b3e345b292e08463d04423f5",
            "3e71f11a362a457e9c0a15b79818521a",
            "1c5912f4ddb945b5a03383a9f29712e4",
            "d9ad034db208441f8cc0731b4eb3eb59",
            "0503855dfd5a4125a40dd05dd3365e2c",
            "5c1bb16cd30a4811b977205998997ead",
            "a6e4004f73b34d119def6dd91a715f81",
            "fa82df7a1fbf40cdbbc48e1cbaba29e2",
            "04623d00b6d541e9add10a998bed8f2a"
          ]
        },
        "id": "72LLcN4eHoAH",
        "outputId": "acecbc50-1434-463e-a6fd-7d2007cb08ab"
      },
      "outputs": [
        {
          "data": {
            "application/vnd.jupyter.widget-view+json": {
              "model_id": "b721fb8d197442beb95cb36776562df6",
              "version_major": 2,
              "version_minor": 0
            },
            "text/plain": [
              "Phi-3-mini-4k-instruct-fp16.gguf:   0%|          | 0.00/7.64G [00:00<?, ?B/s]"
            ]
          },
          "metadata": {},
          "output_type": "display_data"
        },
        {
          "name": "stderr",
          "output_type": "stream",
          "text": [
            "llama_context: n_ctx_per_seq (2048) < n_ctx_train (4096) -- the full capacity of the model will not be utilized\n"
          ]
        }
      ],
      "source": [
        "from llama_cpp.llama import Llama\n",
        "\n",
        "# Load Phi-3\n",
        "llm = Llama.from_pretrained(\n",
        "    repo_id=\"microsoft/Phi-3-mini-4k-instruct-gguf\",\n",
        "    filename=\"*fp16.gguf\",\n",
        "    n_gpu_layers=-1,\n",
        "    n_ctx=2048,\n",
        "    verbose=False\n",
        ")"
      ]
    },
    {
      "cell_type": "code",
      "execution_count": null,
      "metadata": {
        "id": "46g66rIzHvu8"
      },
      "outputs": [],
      "source": [
        "# Generate output\n",
        "output = llm.create_chat_completion(\n",
        "    messages=[\n",
        "        {\"role\": \"user\", \"content\": \"Create a warrior for an RPG in JSON format.\"},\n",
        "    ],\n",
        "    response_format={\"type\": \"json_object\"},\n",
        "    temperature=0,\n",
        ")['choices'][0]['message'][\"content\"]"
      ]
    },
    {
      "cell_type": "code",
      "execution_count": null,
      "metadata": {
        "colab": {
          "base_uri": "https://localhost:8080/"
        },
        "id": "hB-yNCB3HzZ5",
        "outputId": "d23d2fb9-74b0-49f2-e030-ded0dda5e0f3"
      },
      "outputs": [
        {
          "name": "stdout",
          "output_type": "stream",
          "text": [
            "{\n",
            "    \"warrior\": {\n",
            "        \"name\": \"Eldric Stormbringer\",\n",
            "        \"class\": \"Warrior\",\n",
            "        \"level\": 5,\n",
            "        \"attributes\": {\n",
            "            \"strength\": 18,\n",
            "            \"dexterity\": 10,\n",
            "            \"constitution\": 16,\n",
            "            \"intelligence\": 8,\n",
            "            \"wisdom\": 10,\n",
            "            \"charisma\": 12\n",
            "        },\n",
            "        \"skills\": [\n",
            "            {\n",
            "                \"name\": \"Martial Arts\",\n",
            "                \"proficiency\": 20,\n",
            "                \"description\": \"Expert in hand-to-hand combat and weapon handling.\"\n",
            "            },\n",
            "            {\n",
            "                \"name\": \"Shield Block\",\n",
            "                \"proficiency\": 18,\n",
            "                \"description\": \"Highly skilled at deflecting attacks with a shield.\"\n",
            "            },\n",
            "            {\n",
            "                \"name\": \"Heavy Armor\",\n",
            "                \"proficiency\": 16,\n",
            "                \"description\": \"Expertly equipped with heavy armor for protection.\"\n",
            "            },\n",
            "            {\n",
            "                \"name\": \"Survival\",\n",
            "                \"proficiency\": 14,\n",
            "                \"description\": \"Adept at finding food, water, and shelter in the wilderness.\"\n",
            "            }\n",
            "        ],\n",
            "        \"equipment\": [\n",
            "            {\n",
            "                \"name\": \"Iron Sword\",\n",
            "                \"type\": \"Weapon\",\n",
            "                \"damage\": 12,\n",
            "                \"durability\": 100\n",
            "            },\n",
            "            {\n",
            "                \"name\": \"Chainmail Armor\",\n",
            "                \"type\": \"Armor\",\n",
            "                \"defense\": 18,\n",
            "                \"durability\": 100\n",
            "            },\n",
            "            {\n",
            "                \"name\": \"Leather Boots\",\n",
            "                \"type\": \"Armor\",\n",
            "                \"defense\": 8,\n",
            "                \"durability\": 100\n",
            "            }\n",
            "        ],\n",
            "        \"abilities\": [\n",
            "            {\n",
            "                \"name\": \"Berserker Rage\",\n",
            "                \"description\": \"Increases strength and attack power for a short duration.\"\n",
            "            },\n",
            "            {\n",
            "                \"name\": \"Shield Wall\",\n",
            "                \"description\": \"Forms a defensive barrier with allies, reducing incoming damage.\"\n",
            "            },\n",
            "            {\n",
            "                \"name\": \"Battle Cry\",\n",
            "                \"description\": \"Inspires nearby allies, increasing their attack power temporarily.\"\n",
            "            }\n",
            "        ]\n",
            "    }\n",
            "}\n"
          ]
        }
      ],
      "source": [
        "import json\n",
        "\n",
        "# Format as json\n",
        "json_output = json.dumps(json.loads(output), indent=4)\n",
        "print(json_output)"
      ]
    }
  ],
  "metadata": {
    "accelerator": "GPU",
    "colab": {
      "gpuType": "T4",
      "provenance": [],
      "include_colab_link": true
    },
    "kernelspec": {
      "display_name": "Python 3",
      "name": "python3"
    },
    "language_info": {
      "name": "python"
    }
  },
  "nbformat": 4,
  "nbformat_minor": 0
}