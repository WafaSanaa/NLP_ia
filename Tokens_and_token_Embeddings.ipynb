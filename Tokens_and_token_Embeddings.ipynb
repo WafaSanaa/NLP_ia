{
  "cells": [
    {
      "cell_type": "markdown",
      "metadata": {
        "id": "view-in-github",
        "colab_type": "text"
      },
      "source": [
        "<a href=\"https://colab.research.google.com/github/WafaSanaa/NLP_ia/blob/main/Tokens_and_token_Embeddings.ipynb\" target=\"_parent\"><img src=\"https://colab.research.google.com/assets/colab-badge.svg\" alt=\"Open In Colab\"/></a>"
      ]
    },
    {
      "cell_type": "code",
      "execution_count": null,
      "metadata": {
        "id": "cKojCtwiUruj"
      },
      "outputs": [],
      "source": [
        "%%capture\n",
        "!pip install --upgrade transformers==4.41.2 sentence-transformers==3.0.1 gensim==4.3.2 scikit-learn==1.5.0 accelerate==0.31.0 peft==0.11.1 scipy==1.10.1 numpy==1.26.4"
      ]
    },
    {
      "cell_type": "code",
      "execution_count": null,
      "metadata": {
        "colab": {
          "base_uri": "https://localhost:8080/",
          "height": 542,
          "referenced_widgets": [
            "06461ec7a6054f3b84861be4e02e2da4",
            "17ba25dd2ab542218380c70d6936d7d7",
            "c08c8b5307fd487196f75f30bcf67b4d",
            "ff956294cc6a4434b5378bf3d2ac7964",
            "d4fb559d44024cffb813100300f0b772",
            "2b7a361d58eb4971a5a7f4db8e00a106",
            "b3078fe557f947f497dbab0480ad6abd",
            "3429b9588ea54fdcb4e21ed6fad828f7",
            "a74f6156bc584c2eb773ec7795e9fc88",
            "1172b35acf9b46cc9fd9a9c785077a2f",
            "e514b0ef8585491aa530d7b082831e44",
            "5cfc1bbda4a8423f9910ab303fa5e63f",
            "641c1401d553489ea3179c26aeb2315c",
            "ca049c6ff430467e9309aea50ce329d0",
            "2c9fd86b00574f42b12ea5de1364ce57",
            "3d85928a83aa4e1294e69b04b2aae476",
            "e40d6c9fd47c45128db5231a8520631f",
            "2a425aee73f045dfb25c872cea37ab2b",
            "8557a72d53f74d349648e339e47efdbe",
            "2a9f47bafd2e42bc969e33e23e0f50f9",
            "620e4f0cc6c247568c785442eda520ef",
            "e09bc43e23474f099c5ce44b079ef50f",
            "549da322104f4eafbb4611343d7b74f4",
            "2d380b6843614dbe801c6f414c8d57f1",
            "5c34277d6e434ca5a00d5830c408ca19",
            "ce8f4d3d7a904f2191504e6945e38773",
            "db93b42f5d23413e9162cbe77fbe797a",
            "dc25c95abd2e479fb41fee1d235f37d5",
            "3d8512f35a71438a8de7c8d16b45eff0",
            "6827fb9f0d8745e0947fe9c0978d968b",
            "0c0624d085034c49a0ded49f8fe91e5c",
            "18f3777f58864e9da071189f9c6ef7dc",
            "d6731cc0195c4d8fafb2d3ce9a601a51",
            "ffbe5abe9e4b46a9a0ecae22240300e6",
            "203602f7c05e403c9ce6f5cb86708620",
            "29624125b4174c06a2fff112220b114d",
            "69a32bbbfcf14fd2a7c68934a842b978",
            "7aace73d2a874ddb86c70b46c29a1077",
            "86446feadee14fa6b2a592a2516e420a",
            "015db6b7d93c4c27adc6c914f9bba7af",
            "fece491990564d3f9a628fc70256f0c3",
            "04c73fc7705f41ba9754b5db5c0708e5",
            "d6d3221517e740778a2b85f97c4c34f3",
            "03e2d989f2924139a8ca556d545eb379",
            "8e2448174c3f46e1961174d1d3e69a1d",
            "4eef6e45dc9946f3a33def171072cd3c",
            "0c5dbb7201784567b2a361314b7b6261",
            "1dd69292614e41feb6991086978844ec",
            "2872d0f7beed496abf2781ade81d6170",
            "a93d8e9ff63a43a3857d245ec8d4211a",
            "40645075a8f94dd2b9ea098cee244155",
            "073fb962bfba4bec8c2df44c9cd6db8d",
            "5e0e8f65e2394336a0d82bf0d4ccba3f",
            "c5249f4d87c44e7ba3e25b3b61a32a1f",
            "5699baf6c6d54348826a7329549f1f96",
            "f15e065200324046985b8b3fcf8ec5a4",
            "2b22f2074c0f478db8f7e44a92755262",
            "ae777eb4f462436cafb6146a46e43622",
            "3353197a976744d28369786683136254",
            "7c3a8231905a400da23fb5010c58887d",
            "e50ebeb42a9840fc8de04721786428f3",
            "5d04f06d60284e33b09be65794f7ea2d",
            "8c92241d5bef43bbacdbe4503b43a4a9",
            "1533529034c2472a9b4f79657748bb44",
            "87533ec52a2540a39661aa1d30746c2f",
            "7577470b58de4c9693e36448a5899387",
            "994b2ad828f147bfaaa73b343a0f7cbc",
            "07d2afdff0f5427eb11829036446b7f8",
            "3cba42c307cd4dd7bdffbb2a99b82201",
            "f661b2baab2a48e19e3ff806c3a1e4f5",
            "84a47409053045449c93054fe4b084c2",
            "3424ae069f8141a1898b4adbec42cd05",
            "ef34670231a84fa0927964b82e32c4ea",
            "90d770ee6ce3481db2e006bb20bee07c",
            "1bd9fa7eabda44c3a635b0306055402f",
            "e8331e97baba40ac82270683eac9da51",
            "ef1b1118d9244465bfda20b14c6809fd",
            "d6a1cb18958e4d4fa1862ac46d33f20a",
            "2df1811c9bdb4c3993a539d961f35823",
            "50a7b20ec6834b858cb845b1a4427b96",
            "96c1b4bc31cd4e1bbad9ce0302cc2dae",
            "24b66c7dda3b463f9c5b8b1944cbde28",
            "1ecfbd8249fd4fde8699d9530321e9b1",
            "34a5bf828b71484f8dbbb6d299c795f0",
            "0bc3c04fa67a425eabe6d0cfb5464ee9",
            "648ef749872a45bbb7325f100a4f0de1",
            "85162f407fff4c4090d61eac7d7beac4",
            "8340fbb3a66d4645a5e9a8b90aad0808",
            "76432b37c1ba4879857463e39e01c452",
            "1322650eb93b4441ac75a781bfddb35c",
            "ce123473a8fe43f08bb8e201c48ea14c",
            "aa0b8e4eda1e400781d88a64a925660f",
            "bf5ad310b16044f8a3634bd5364e5788",
            "d5e67eaf6c314a27be8c4393122870f8",
            "da492332accd42fb9d1d3edbe5966e9a",
            "9265608cd4d1436cb3bc1c595a1fc6d9",
            "d972335d2778499bb51ab16c0cc4235d",
            "ce28f18168c344a3b68fa5a6eab10916",
            "f27648e2a3f745aaab21b6e539737ba2",
            "0514b35a7f6b4682ae8ac9ba90a91c75",
            "46501ac87dc346318dd02d571c557e6a",
            "79edb7bf859944bfa7aaf2b25fe9ab6e",
            "a9018242ae844c9ebe0c86fc71f22fa0",
            "a52d39d5a795471ca4ac6927e47c618a",
            "997b6fd446b048e3b455fd2da60834f6",
            "e66ca90e90e44faab6de2d0be67adfa0",
            "44ade105ef7f47f1ab6a38fceac9ecc0",
            "afe8f6dc8e9344ae9c5973a35ba6e59b",
            "7154bd7d782c4f2ab5eeec3d9ca9416b",
            "fb9f80d98fed4f7dbfcbe43eaba3ffe3",
            "11bf34e639324c178c5a501876b26c6f",
            "4e0e3624caf948e5bb71c8eb1325de77",
            "f83b3ee3084848a29947052fbd3bf8fc",
            "b0e5a2adcc4745c886cbe177385b0801",
            "cd18e5f261e0433d9fdcbcf8971e2d99",
            "4a3fcfdc70064a84b37263bba722b06a",
            "b364cdaddd12496b86993a91a94b644f",
            "7ab4546f4f70460984c7c5a45aea29a2",
            "ff5325ab4e6e4a4497bc9166a9cc78f6",
            "ca58c7e7cdb2423fb9e54c35914b40be",
            "c67277cf97b84270b6f7bffe20cb58f2",
            "e6e92624713d45cb9d6db0b4d9f65e72",
            "857aa4ce8f214e89ac1b41141808a014",
            "559d9b75a65e407385636e18d6387c67",
            "2d523e1292ad4fffb0e1c7a6d0b09e79",
            "fe58a44ad92d4a9db6d1044c28c5e52e",
            "60549cceb06d48a4a2c81209be92b837",
            "1ffc742649ad40d39c61899b9abdbee3",
            "c21ae2232ed0430da01fe6071fb2e0b2",
            "68bd7360d9c94ca7a707e95855029523",
            "fb88fb1bd06b48ee8badaa35a0f8362c",
            "60ba5a0cf0ba4b09839b4079d8a1e4cb"
          ]
        },
        "id": "3Lwlkz2uVJlD",
        "outputId": "142ab162-dc92-471f-c262-de5e18bcda86"
      },
      "outputs": [
        {
          "name": "stderr",
          "output_type": "stream",
          "text": [
            "/usr/local/lib/python3.11/dist-packages/huggingface_hub/utils/_auth.py:94: UserWarning: \n",
            "The secret `HF_TOKEN` does not exist in your Colab secrets.\n",
            "To authenticate with the Hugging Face Hub, create a token in your settings tab (https://huggingface.co/settings/tokens), set it as secret in your Google Colab and restart your session.\n",
            "You will be able to reuse this secret in all of your notebooks.\n",
            "Please note that authentication is recommended but still optional to access public models or datasets.\n",
            "  warnings.warn(\n"
          ]
        },
        {
          "data": {
            "application/vnd.jupyter.widget-view+json": {
              "model_id": "06461ec7a6054f3b84861be4e02e2da4",
              "version_major": 2,
              "version_minor": 0
            },
            "text/plain": [
              "config.json:   0%|          | 0.00/967 [00:00<?, ?B/s]"
            ]
          },
          "metadata": {},
          "output_type": "display_data"
        },
        {
          "data": {
            "application/vnd.jupyter.widget-view+json": {
              "model_id": "5cfc1bbda4a8423f9910ab303fa5e63f",
              "version_major": 2,
              "version_minor": 0
            },
            "text/plain": [
              "model.safetensors.index.json:   0%|          | 0.00/16.5k [00:00<?, ?B/s]"
            ]
          },
          "metadata": {},
          "output_type": "display_data"
        },
        {
          "data": {
            "application/vnd.jupyter.widget-view+json": {
              "model_id": "549da322104f4eafbb4611343d7b74f4",
              "version_major": 2,
              "version_minor": 0
            },
            "text/plain": [
              "Downloading shards:   0%|          | 0/2 [00:00<?, ?it/s]"
            ]
          },
          "metadata": {},
          "output_type": "display_data"
        },
        {
          "data": {
            "application/vnd.jupyter.widget-view+json": {
              "model_id": "ffbe5abe9e4b46a9a0ecae22240300e6",
              "version_major": 2,
              "version_minor": 0
            },
            "text/plain": [
              "model-00001-of-00002.safetensors:   0%|          | 0.00/4.97G [00:00<?, ?B/s]"
            ]
          },
          "metadata": {},
          "output_type": "display_data"
        },
        {
          "data": {
            "application/vnd.jupyter.widget-view+json": {
              "model_id": "8e2448174c3f46e1961174d1d3e69a1d",
              "version_major": 2,
              "version_minor": 0
            },
            "text/plain": [
              "model-00002-of-00002.safetensors:   0%|          | 0.00/2.67G [00:00<?, ?B/s]"
            ]
          },
          "metadata": {},
          "output_type": "display_data"
        },
        {
          "data": {
            "application/vnd.jupyter.widget-view+json": {
              "model_id": "f15e065200324046985b8b3fcf8ec5a4",
              "version_major": 2,
              "version_minor": 0
            },
            "text/plain": [
              "Loading checkpoint shards:   0%|          | 0/2 [00:00<?, ?it/s]"
            ]
          },
          "metadata": {},
          "output_type": "display_data"
        },
        {
          "data": {
            "application/vnd.jupyter.widget-view+json": {
              "model_id": "994b2ad828f147bfaaa73b343a0f7cbc",
              "version_major": 2,
              "version_minor": 0
            },
            "text/plain": [
              "generation_config.json:   0%|          | 0.00/181 [00:00<?, ?B/s]"
            ]
          },
          "metadata": {},
          "output_type": "display_data"
        },
        {
          "data": {
            "application/vnd.jupyter.widget-view+json": {
              "model_id": "d6a1cb18958e4d4fa1862ac46d33f20a",
              "version_major": 2,
              "version_minor": 0
            },
            "text/plain": [
              "tokenizer_config.json:   0%|          | 0.00/3.44k [00:00<?, ?B/s]"
            ]
          },
          "metadata": {},
          "output_type": "display_data"
        },
        {
          "data": {
            "application/vnd.jupyter.widget-view+json": {
              "model_id": "76432b37c1ba4879857463e39e01c452",
              "version_major": 2,
              "version_minor": 0
            },
            "text/plain": [
              "tokenizer.model:   0%|          | 0.00/500k [00:00<?, ?B/s]"
            ]
          },
          "metadata": {},
          "output_type": "display_data"
        },
        {
          "data": {
            "application/vnd.jupyter.widget-view+json": {
              "model_id": "0514b35a7f6b4682ae8ac9ba90a91c75",
              "version_major": 2,
              "version_minor": 0
            },
            "text/plain": [
              "tokenizer.json:   0%|          | 0.00/1.94M [00:00<?, ?B/s]"
            ]
          },
          "metadata": {},
          "output_type": "display_data"
        },
        {
          "data": {
            "application/vnd.jupyter.widget-view+json": {
              "model_id": "11bf34e639324c178c5a501876b26c6f",
              "version_major": 2,
              "version_minor": 0
            },
            "text/plain": [
              "added_tokens.json:   0%|          | 0.00/306 [00:00<?, ?B/s]"
            ]
          },
          "metadata": {},
          "output_type": "display_data"
        },
        {
          "data": {
            "application/vnd.jupyter.widget-view+json": {
              "model_id": "e6e92624713d45cb9d6db0b4d9f65e72",
              "version_major": 2,
              "version_minor": 0
            },
            "text/plain": [
              "special_tokens_map.json:   0%|          | 0.00/599 [00:00<?, ?B/s]"
            ]
          },
          "metadata": {},
          "output_type": "display_data"
        },
        {
          "name": "stderr",
          "output_type": "stream",
          "text": [
            "Special tokens have been added in the vocabulary, make sure the associated word embeddings are fine-tuned or trained.\n"
          ]
        }
      ],
      "source": [
        "from transformers import AutoModelForCausalLM, AutoTokenizer\n",
        "\n",
        "#load model and tokenizer\n",
        "model = AutoModelForCausalLM.from_pretrained(\n",
        "    \"microsoft/Phi-3-mini-4k-instruct\",\n",
        "    device_map=\"cuda\",\n",
        "    torch_dtype=\"auto\",\n",
        "    trust_remote_code=False,\n",
        ")\n",
        "tokenizer = AutoTokenizer.from_pretrained(\"microsoft/Phi-3-mini-4k-instruct\")\n"
      ]
    },
    {
      "cell_type": "code",
      "execution_count": null,
      "metadata": {
        "colab": {
          "base_uri": "https://localhost:8080/"
        },
        "id": "oWeE5TdpWP9J",
        "outputId": "f7ea096e-681a-4f38-dabd-cddcce302279"
      },
      "outputs": [
        {
          "name": "stdout",
          "output_type": "stream",
          "text": [
            "write an email apologizing to Sarah for the tragic gardening mishap. Explain how it happened. Subject: Sincere Apologies for the Gardening Mishap\n",
            "\n",
            "\n",
            "Dear\n"
          ]
        }
      ],
      "source": [
        "prompt = \"write an email apologizing to Sarah for the tragic gardening mishap. Explain how it happened.<|assistant|>\"\n",
        "\n",
        "#Tokenize the input prompt\n",
        "input_ids = tokenizer(prompt, return_tensors=\"pt\").input_ids.to(\"cuda\")\n",
        "\n",
        "#Generate the text\n",
        "generation_output = model.generate(\n",
        "    input_ids = input_ids,\n",
        "    max_new_tokens=20\n",
        ")\n",
        "# Décoder et afficher\n",
        "output_text = tokenizer.decode(generation_output[0], skip_special_tokens=True)\n",
        "print(output_text)"
      ]
    },
    {
      "cell_type": "code",
      "execution_count": null,
      "metadata": {
        "colab": {
          "base_uri": "https://localhost:8080/"
        },
        "id": "uGLdD-03cMCq",
        "outputId": "399ddf1f-9916-4f79-a3bf-87fbf9aa3579"
      },
      "outputs": [
        {
          "name": "stdout",
          "output_type": "stream",
          "text": [
            "tensor([[ 2436,   385,  4876, 27746,  5281,   304, 19235,   363,   278, 25305,\n",
            "           293, 16423,   292,   286,   728,   481, 29889, 12027,  7420,   920,\n",
            "           372,  9559, 29889, 32001]], device='cuda:0')\n"
          ]
        }
      ],
      "source": [
        "print(input_ids)"
      ]
    }
  ],
  "metadata": {
    "accelerator": "GPU",
    "colab": {
      "gpuType": "T4",
      "provenance": [],
      "include_colab_link": true
    },
    "kernelspec": {
      "display_name": "Python 3",
      "name": "python3"
    },
    "language_info": {
      "name": "python"
    }
  },
  "nbformat": 4,
  "nbformat_minor": 0
}